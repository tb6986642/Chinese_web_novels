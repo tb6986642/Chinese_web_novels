{
 "cells": [
  {
   "cell_type": "markdown",
   "id": "451a63b6",
   "metadata": {},
   "source": [
    "# Crawling book reviews"
   ]
  },
  {
   "cell_type": "markdown",
   "id": "b38fb779",
   "metadata": {},
   "source": [
    "This section aims to crawl book reviews for Chinese Xianxia novels on the Wuxia World website."
   ]
  },
  {
   "cell_type": "markdown",
   "id": "037114a2",
   "metadata": {},
   "source": [
    "The essence and basic process of web crawling, please refer to https://rayobyte.com/blog/web-crawling-vs-web-scraping/"
   ]
  },
  {
   "cell_type": "markdown",
   "id": "bee9e81b",
   "metadata": {},
   "source": [
    "In this case, we chose to use Selenium because the Wuxia World website has implemented an anti-crawling mechanism that requires browser simulation to obtain complete data. For installing and documentation, please refer to https://selenium-python.readthedocs.io/index.html"
   ]
  },
  {
   "cell_type": "markdown",
   "id": "c5453ccb",
   "metadata": {},
   "source": [
    "Note: Please make sure to install the necessary libraries such as Selenium and BeautifulSoup before running the code. You can use pip, the Python package installer, to install these libraries. To install them, open your command prompt or terminal and enter the following commands:\n",
    "\n",
    "pip install selenium;\n",
    "pip install beautifulsoup4"
   ]
  },
  {
   "cell_type": "code",
   "execution_count": 264,
   "id": "c4a69241",
   "metadata": {},
   "outputs": [],
   "source": [
    "# Importing all the needed libraries for this project\n",
    "import time\n",
    "from selenium import webdriver\n",
    "from selenium.webdriver.common.by import By\n",
    "from selenium.webdriver.support.ui import WebDriverWait\n",
    "from selenium.webdriver.support import expected_conditions as EC\n",
    "from bs4 import BeautifulSoup"
   ]
  },
  {
   "cell_type": "markdown",
   "id": "f51429d6",
   "metadata": {},
   "source": [
    "Here, we take ChromeDriver as an example. Please follow the setup instruction https://sites.google.com/chromium.org/driver/getting-started"
   ]
  },
  {
   "cell_type": "code",
   "execution_count": 265,
   "id": "ebe0bf22",
   "metadata": {},
   "outputs": [
    {
     "name": "stderr",
     "output_type": "stream",
     "text": [
      "<ipython-input-265-db031d3a039e>:2: DeprecationWarning: executable_path has been deprecated, please pass in a Service object\n",
      "  driver = webdriver.Chrome(executable_path='/Users/wanshuo/Desktop/Master/DH_MA_thesis/Dataset/chromedriver_mac_arm64/chromedriver')\n"
     ]
    }
   ],
   "source": [
    "# Specify the path of the chromedriver and launch the browser\n",
    "driver = webdriver.Chrome(executable_path='/Users/wanshuo/Desktop/Master/DH_MA_thesis/Dataset/chromedriver_mac_arm64/chromedriver')\n",
    "\n",
    "# Open the novel page\n",
    "driver.get('https://www.wuxiaworld.com/novel/sovereign-of-the-three-realms')"
   ]
  },
  {
   "cell_type": "code",
   "execution_count": 266,
   "id": "739e3e1b",
   "metadata": {},
   "outputs": [],
   "source": [
    "# Locate the \"View All\" button and click on it\n",
    "view_all_link = WebDriverWait(driver, 10).until(\n",
    "    EC.presence_of_element_located((By.XPATH, '//*[@id=\"full-width-tabpanel-0\"]/div/div[3]/div[2]/div[2]/div/div[2]/div/span'))\n",
    ")\n",
    "view_all_link.click()"
   ]
  },
  {
   "cell_type": "code",
   "execution_count": 267,
   "id": "a1a811d7",
   "metadata": {},
   "outputs": [],
   "source": [
    "# Wait for 10 seconds for the comments to load\n",
    "time.sleep(10)"
   ]
  },
  {
   "cell_type": "code",
   "execution_count": 268,
   "id": "a1e2762f",
   "metadata": {},
   "outputs": [],
   "source": [
    "# Get the webpage source code and parse the HTML code using BeautifulSoup\n",
    "html = driver.page_source\n",
    "soup = BeautifulSoup(html, \"html.parser\")"
   ]
  },
  {
   "cell_type": "code",
   "execution_count": 269,
   "id": "a7ef2379",
   "metadata": {},
   "outputs": [],
   "source": [
    "# Find all the comment divs and store them in a list\n",
    "data = soup.find_all('div',{'class':'absolute'})"
   ]
  },
  {
   "cell_type": "code",
   "execution_count": 270,
   "id": "97b064f2",
   "metadata": {},
   "outputs": [],
   "source": [
    "# Find the next page button\n",
    "next_page = WebDriverWait(driver, 10).until(\n",
    "    EC.presence_of_element_located((By.XPATH, \n",
    "                                    '/html/body/div[2]/div[3]/div/div/div/div[2]/div[3]/nav/ul/li[9]/button'))\n",
    ")"
   ]
  },
  {
   "cell_type": "code",
   "execution_count": 271,
   "id": "e2adee20",
   "metadata": {},
   "outputs": [],
   "source": [
    "# Create an empty list to store all the comments\n",
    "comments = []"
   ]
  },
  {
   "cell_type": "code",
   "execution_count": 272,
   "id": "2b38b036",
   "metadata": {},
   "outputs": [],
   "source": [
    "# keep clicking the next page button until it's disabled\n",
    "while next_page.is_enabled():\n",
    "    next_page.click()\n",
    "    time.sleep(10)\n",
    "    html = driver.page_source\n",
    "    soup = BeautifulSoup(html, \"html.parser\")\n",
    "    data = soup.find_all('div', class_=\"absolute top-0 -z-10 line-clamp-1 font-set-r15-h150 text-gray-t1 sm2:font-set-r16-h150\")[3:]\n",
    "    comments.extend(data)\n",
    "    next_page = WebDriverWait(driver, 10).until(\n",
    "    EC.presence_of_element_located((By.XPATH, \n",
    "                                    '/html/body/div[2]/div[3]/div/div/div/div[2]/div[3]/nav/ul/li[9]/button'))\n",
    "    )"
   ]
  },
  {
   "cell_type": "code",
   "execution_count": 273,
   "id": "d0d92410",
   "metadata": {},
   "outputs": [],
   "source": [
    "# export the comments to a txt file\n",
    "with open('comments.txt', 'w', encoding='utf-8') as f:\n",
    "    for comment in comments:\n",
    "        f.write(comment.get_text(strip=True))# write only the text content of the comment to the file\n",
    "        f.write('\\n\\n')# create a blank line between each comment"
   ]
  },
  {
   "cell_type": "code",
   "execution_count": 274,
   "id": "98f99b39",
   "metadata": {},
   "outputs": [],
   "source": [
    "# close the browser after exporting the comments\n",
    "driver.quit()"
   ]
  },
  {
   "cell_type": "code",
   "execution_count": null,
   "id": "b563fbb0",
   "metadata": {},
   "outputs": [],
   "source": []
  }
 ],
 "metadata": {
  "kernelspec": {
   "display_name": "Python 3",
   "language": "python",
   "name": "python3"
  },
  "language_info": {
   "codemirror_mode": {
    "name": "ipython",
    "version": 3
   },
   "file_extension": ".py",
   "mimetype": "text/x-python",
   "name": "python",
   "nbconvert_exporter": "python",
   "pygments_lexer": "ipython3",
   "version": "3.8.8"
  }
 },
 "nbformat": 4,
 "nbformat_minor": 5
}
